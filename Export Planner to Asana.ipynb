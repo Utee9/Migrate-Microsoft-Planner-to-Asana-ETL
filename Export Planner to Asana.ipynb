{
 "cells": [
  {
   "cell_type": "code",
   "execution_count": 1,
   "id": "c04d3571",
   "metadata": {},
   "outputs": [],
   "source": [
    "import pandas as pd"
   ]
  },
  {
   "cell_type": "code",
   "execution_count": 2,
   "id": "34be12b4",
   "metadata": {},
   "outputs": [],
   "source": [
    "file = \"raw/Planner_format.csv\"\n",
    "Asana_format = file[4:-4]+\"clean.csv\""
   ]
  },
  {
   "cell_type": "code",
   "execution_count": 3,
   "id": "482b9342",
   "metadata": {
    "scrolled": true
   },
   "outputs": [],
   "source": [
    "df = pd.read_csv(file)"
   ]
  },
  {
   "cell_type": "code",
   "execution_count": 4,
   "id": "678370da",
   "metadata": {},
   "outputs": [],
   "source": [
    "df.sort_values(\"Bucket Name\", ignore_index=True, inplace=True)"
   ]
  },
  {
   "cell_type": "code",
   "execution_count": 5,
   "id": "908fe119",
   "metadata": {
    "scrolled": false
   },
   "outputs": [
    {
     "name": "stdout",
     "output_type": "stream",
     "text": [
      "<class 'pandas.core.frame.DataFrame'>\n",
      "RangeIndex: 77 entries, 0 to 76\n",
      "Data columns (total 18 columns):\n",
      " #   Column                     Non-Null Count  Dtype \n",
      "---  ------                     --------------  ----- \n",
      " 0   Task ID                    77 non-null     object\n",
      " 1   Task Name                  77 non-null     object\n",
      " 2   Bucket Name                77 non-null     object\n",
      " 3   Progress                   77 non-null     object\n",
      " 4   Priority                   77 non-null     object\n",
      " 5   Assigned To                32 non-null     object\n",
      " 6   Created By                 77 non-null     object\n",
      " 7   Created Date               77 non-null     object\n",
      " 8   Start Date                 36 non-null     object\n",
      " 9   Due Date                   34 non-null     object\n",
      " 10  Is Recurring               77 non-null     bool  \n",
      " 11  Late                       77 non-null     bool  \n",
      " 12  Completed Date             1 non-null      object\n",
      " 13  Completed By               1 non-null      object\n",
      " 14  Description                44 non-null     object\n",
      " 15  Completed Checklist Items  32 non-null     object\n",
      " 16  Checklist Items            32 non-null     object\n",
      " 17  Labels                     73 non-null     object\n",
      "dtypes: bool(2), object(16)\n",
      "memory usage: 9.9+ KB\n"
     ]
    }
   ],
   "source": [
    "df.info()"
   ]
  },
  {
   "cell_type": "code",
   "execution_count": 6,
   "id": "f379dc08",
   "metadata": {},
   "outputs": [],
   "source": [
    "df.insert(0, \"Order3\", range(0, len(df)*2, 2))"
   ]
  },
  {
   "cell_type": "code",
   "execution_count": 7,
   "id": "75da153d",
   "metadata": {},
   "outputs": [],
   "source": [
    "df[\"Progress\"] = df[\"Progress\"].replace(\"Completed\", \"Done\")"
   ]
  },
  {
   "cell_type": "code",
   "execution_count": 8,
   "id": "1c6d18c6",
   "metadata": {},
   "outputs": [],
   "source": [
    "df.rename(columns = {\"Task Name\":\"Name\", \"Bucket Name\":\"Section/Column\", \"Assigned To\": \"Collaborators\",\n",
    "\"Created Date\": \"Created At\", \"Completed Date\": \"Completed At\", \"Description\":\"Notes\", \"Progress\":\"Task Progress\"}, inplace=True)"
   ]
  },
  {
   "cell_type": "code",
   "execution_count": 9,
   "id": "bf069a43",
   "metadata": {},
   "outputs": [],
   "source": [
    "df = df.astype({'Collaborators': 'string', 'Labels': 'string'})\n",
    "\n",
    "df[\"Completed At\"] = pd.to_datetime(df[\"Completed At\"])\n",
    "df[\"Due Date\"] = pd.to_datetime(df[\"Due Date\"])\n",
    "df[\"Start Date\"] = pd.to_datetime(df[\"Start Date\"])\n",
    "df[\"Created At\"] = pd.to_datetime(df[\"Created At\"])"
   ]
  },
  {
   "cell_type": "code",
   "execution_count": 10,
   "id": "90738984",
   "metadata": {},
   "outputs": [],
   "source": [
    "df['Collaborators'] = df['Collaborators'].str.replace(';',',')"
   ]
  },
  {
   "cell_type": "code",
   "execution_count": 11,
   "id": "b23a7b52",
   "metadata": {
    "scrolled": true
   },
   "outputs": [],
   "source": [
    "df['Created By'] = df['Created By'].replace({'Username_1':'Username_1_email',\n",
    "                             'Username_2':'Username_2_email', \n",
    "                             'Username_3':'Username_3_email',\n",
    "                             'Username_4':'Usernname_4_email', \n",
    "                             'Username_5':'Username_5_email',\n",
    "                             'Username_6':'Username_6_email', \n",
    "                             'Username_7':'Username_7_email',\n",
    "                             'Username_8':'Username_8_email'\n",
    "                             })"
   ]
  },
  {
   "cell_type": "code",
   "execution_count": 12,
   "id": "baa04851",
   "metadata": {},
   "outputs": [],
   "source": [
    "df['Collaborators'] = df['Collaborators'].replace({'Username_1':'Username_1_email',\n",
    "                             'Username_2':'Username_2_email', \n",
    "                             'Username_3':'Username_3_email',\n",
    "                             'Username_4':'Usernname_4_email', \n",
    "                             'Username_5':'Username_5_email',\n",
    "                             'Username_6':'Username_6_email', \n",
    "                             'Username_7':'Username_7_email',\n",
    "                             'Username_8':'Username_8_email'})"
   ]
  },
  {
   "cell_type": "code",
   "execution_count": 13,
   "id": "8fc2fad0",
   "metadata": {},
   "outputs": [],
   "source": [
    "df['Completed By'] = df['Completed By'].replace({'Username_1':'Username_1_email',\n",
    "                             'Username_2':'Username_2_email', \n",
    "                             'Username_3':'Username_3_email',\n",
    "                             'Username_4':'Usernname_4_email', \n",
    "                             'Username_5':'Username_5_email',\n",
    "                             'Username_6':'Username_6_email', \n",
    "                             'Username_7':'Username_7_email',\n",
    "                             'Username_8':'Username_8_email'})"
   ]
  },
  {
   "cell_type": "code",
   "execution_count": 14,
   "id": "a215188e",
   "metadata": {
    "scrolled": true
   },
   "outputs": [],
   "source": [
    "ddf = pd.DataFrame(df[\"Collaborators\"][df[\"Collaborators\"].str.contains(',')].str.split(pat = ',', expand = True).replace({{'Username_1':'Username_1_email',\n",
    "                             'Username_2':'Username_2_email', \n",
    "                             'Username_3':'Username_3_email',\n",
    "                             'Username_4':'Usernname_4_email', \n",
    "                             'Username_5':'Username_5_email',\n",
    "                             'Username_6':'Username_6_email', \n",
    "                             'Username_7':'Username_7_email',\n",
    "                             'Username_8':'Username_8_email'}) )\n",
    "\n",
    "df[\"Collaborators\"][df[\"Collaborators\"].str.contains(',')] = ddf[ddf.columns[0:]].apply(\n",
    "    lambda x: ','.join(x.dropna().astype(str)),\n",
    "    axis=1\n",
    ")"
   ]
  },
  {
   "cell_type": "code",
   "execution_count": 15,
   "id": "8c636610",
   "metadata": {},
   "outputs": [],
   "source": [
    "df[\"Assignee\"] = df[\"Collaborators\"].str.split(',|/s', expand=True)[0]"
   ]
  },
  {
   "cell_type": "code",
   "execution_count": 16,
   "id": "8436b5bf",
   "metadata": {},
   "outputs": [],
   "source": [
    "pdf = df[\"Checklist Items\"].str.split(pat = ';', expand = True)\n",
    "pdf[\"Name\"] = df.Name\n",
    "pdf[\"Order3\"] = df.Order3 + 1"
   ]
  },
  {
   "cell_type": "code",
   "execution_count": 17,
   "id": "4956322d",
   "metadata": {},
   "outputs": [],
   "source": [
    "size = pdf.shape[1]-2\n",
    "a = pdf[[0,\"Name\",\"Order3\"]][pdf[[0,\"Name\"]].notna().all(1)]\n",
    "\n",
    "for i in range(1, size):\n",
    "    b = pdf[[i,\"Name\",\"Order3\"]][pdf[[i,\"Name\"]].notna().all(1)]\n",
    "    b.rename(columns={i:0}, inplace=True)\n",
    "    a = pd.concat([a,b],ignore_index=True)\n",
    "    continue"
   ]
  },
  {
   "cell_type": "code",
   "execution_count": 18,
   "id": "57bd2fb2",
   "metadata": {},
   "outputs": [],
   "source": [
    "a.rename(columns={0:\"Name\",\"Name\":\"Parent Task\"}, inplace=True)"
   ]
  },
  {
   "cell_type": "code",
   "execution_count": 19,
   "id": "7c9c275b",
   "metadata": {},
   "outputs": [],
   "source": [
    "df[\"Parent Task\"] = ''"
   ]
  },
  {
   "cell_type": "code",
   "execution_count": 20,
   "id": "17a11127",
   "metadata": {},
   "outputs": [],
   "source": [
    "df = pd.concat([df, a], ignore_index=True)"
   ]
  },
  {
   "cell_type": "code",
   "execution_count": 21,
   "id": "b378f85f",
   "metadata": {},
   "outputs": [],
   "source": [
    "df.drop(columns=['Checklist Items'], inplace=True)"
   ]
  },
  {
   "cell_type": "code",
   "execution_count": 22,
   "id": "2dcec8f2",
   "metadata": {
    "scrolled": true
   },
   "outputs": [],
   "source": [
    "sec = df['Section/Column'].unique()\n",
    "par = df['Parent Task'].unique()"
   ]
  },
  {
   "cell_type": "code",
   "execution_count": 23,
   "id": "e291585a",
   "metadata": {},
   "outputs": [],
   "source": [
    "df.sort_values(\"Order3\", ignore_index=True, inplace=True)"
   ]
  },
  {
   "cell_type": "code",
   "execution_count": 24,
   "id": "104075fb",
   "metadata": {},
   "outputs": [],
   "source": [
    "xdf = df[[\"Created At\", \"Completed At\", \"Name\", \"Section/Column\", \"Assignee\", \"Start Date\", \"Due Date\", \"Notes\", \"Parent Task\", \"Task Progress\", \"Priority\", \"Collaborators\", \"Created By\", \"Late\", \"Completed By\", \"Completed Checklist Items\", \"Labels\"]]"
   ]
  },
  {
   "cell_type": "code",
   "execution_count": 25,
   "id": "2722794b",
   "metadata": {
    "scrolled": true
   },
   "outputs": [],
   "source": [
    "xdf.to_csv(Asana_format, index=False)"
   ]
  }
 ],
 "metadata": {
  "kernelspec": {
   "display_name": "Python 3 (ipykernel)",
   "language": "python",
   "name": "python3"
  },
  "language_info": {
   "codemirror_mode": {
    "name": "ipython",
    "version": 3
   },
   "file_extension": ".py",
   "mimetype": "text/x-python",
   "name": "python",
   "nbconvert_exporter": "python",
   "pygments_lexer": "ipython3",
   "version": "3.9.12"
  }
 },
 "nbformat": 4,
 "nbformat_minor": 5
}
